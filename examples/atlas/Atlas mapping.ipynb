{
 "cells": [
  {
   "cell_type": "markdown",
   "id": "b8ea3853",
   "metadata": {},
   "source": [
    "# Atlas mapping"
   ]
  },
  {
   "cell_type": "code",
   "execution_count": null,
   "id": "baba985b",
   "metadata": {},
   "outputs": [],
   "source": [
    "# In the remapping acronyms are not lateralised, so must used either x value or atlas ids to differentiate"
   ]
  },
  {
   "cell_type": "code",
   "execution_count": null,
   "id": "2dae63ed",
   "metadata": {},
   "outputs": [],
   "source": [
    "from ibllib.atlas import AllenAtlas\n",
    "ba = AllenAtlas()"
   ]
  },
  {
   "cell_type": "markdown",
   "id": "279114b7",
   "metadata": {},
   "source": [
    "## Available Mappings\n",
    "Three mappings are currently available within the IBL, these are:\n",
    "\n",
    "1. Allen Atlas - total of xx annotation regions provided by Allen Atlas\n",
    "2. Beryl Atlas - total of xx annotation regions\n",
    "3. Cosmos Atlas - total of 8 annotation regions"
   ]
  },
  {
   "cell_type": "code",
   "execution_count": null,
   "id": "3c9d922c",
   "metadata": {},
   "outputs": [],
   "source": [
    "# create figure\n",
    "import matplotlib.pyplot as plt\n",
    "fig, axs = plt.subplots(1, 3, figsize=(15, 18))\n",
    "\n",
    "# plot coronal slice at ap = -2000 um\n",
    "ap = -2000 / 1e6\n",
    "# Allen mapping\n",
    "ba.plot_cslice(ap, volume='annotation', mapping='Allen', ax=axs[0])\n",
    "_ = axs[0].set_title('Allen')\n",
    "# Beryl mapping\n",
    "ba.plot_cslice(ap, volume='annotation', mapping='Beryl', ax=axs[1])\n",
    "_ = axs[1].set_title('Beryl')\n",
    "# Cosmos mapping\n",
    "ba.plot_cslice(ap, volume='annotation', mapping='Cosmos', ax=axs[2])\n",
    "_ = axs[2].set_title('Cosmos')"
   ]
  },
  {
   "cell_type": "markdown",
   "id": "af175d41",
   "metadata": {},
   "source": [
    "## Some nomecluture\n",
    "The brain_atlas comprises a 3D array that represents the brain volume. Each element in the array is and each element has a brain region assigned to it"
   ]
  },
  {
   "cell_type": "markdown",
   "id": "a8460f28",
   "metadata": {},
   "source": [
    "## Understanding the mappings\n",
    "The mappings store the highest level annotation (or parent node) that should be considered. Any regions that are children of these nodes are assigned the same annotation as their parent. \n",
    "\n",
    "For example, consider the region with the acronym **MDm** (Mediodorsal nucleus of the thalamus, medial part). Firstly, to navigate ourselves, we can find the acronyms of all the ancestors to this region,"
   ]
  },
  {
   "cell_type": "code",
   "execution_count": null,
   "id": "08393219",
   "metadata": {},
   "outputs": [],
   "source": [
    "# First find the atlas_id associated with acronym MDm\n",
    "atlas_id = ba.regions.acronym2atlasID('MDm')\n",
    "# Then find the acronyms of the ancestors of this region\n",
    "ba.regions.ancestors(ids=atlas_id)['acronym']"
   ]
  },
  {
   "cell_type": "markdown",
   "id": "9081a1b3",
   "metadata": {},
   "source": [
    "We can then take a look at what acronym this region will assigned under the different mappings. Under the Allen mapping we expect it to be assigned the same acronym as this is the lowest level region parcelation that we use."
   ]
  },
  {
   "cell_type": "code",
   "execution_count": null,
   "id": "ef838f27",
   "metadata": {},
   "outputs": [],
   "source": [
    "from iblutil.numerical import ismember\n",
    "import numpy as np\n",
    "ra, inds = ismember(ba.regions.acronym, np.array(['MDm', 'TH', 'DG']))\n",
    "np.where(_)\n",
    "help(ismember)\n",
    "print(inds)\n",
    "print(np.where(ra))\n",
    "ba.regions.acronym\n",
    "\n",
    "s = np.argsort(inds)\n",
    "bla = np.where(ra)[0][s]\n",
    "bla.reshape(3, 2)\n",
    "1801 - 474\n",
    "\n",
    "np.array('MDm')"
   ]
  },
  {
   "cell_type": "code",
   "execution_count": null,
   "id": "45c3f455",
   "metadata": {},
   "outputs": [],
   "source": [
    "import numpy as np\n",
    "la = np.array()\n",
    "la"
   ]
  },
  {
   "cell_type": "code",
   "execution_count": null,
   "id": "072d4760",
   "metadata": {},
   "outputs": [],
   "source": [
    "ba.regions.acronym"
   ]
  },
  {
   "cell_type": "code",
   "execution_count": null,
   "id": "050732c2",
   "metadata": {},
   "outputs": [],
   "source": [
    "acronym2acronym(['MDm'], mapping='Allen')"
   ]
  },
  {
   "cell_type": "markdown",
   "id": "2cc3d224",
   "metadata": {},
   "source": [
    "Under the Beryl mapping, **MDm** is given the acronym of it's parent, **MD**"
   ]
  },
  {
   "cell_type": "code",
   "execution_count": null,
   "id": "3aa34ba5",
   "metadata": {},
   "outputs": [],
   "source": [
    "acronym2acronym('MDm', mapping='Beryl')"
   ]
  },
  {
   "cell_type": "markdown",
   "id": "f574d115",
   "metadata": {},
   "source": [
    "Under the Cosmos mapping, it is assigned to the region **TH**"
   ]
  },
  {
   "cell_type": "code",
   "execution_count": null,
   "id": "f74fa398",
   "metadata": {},
   "outputs": [],
   "source": [
    "acronym2acronym('MDm', mapping='Cosmos')"
   ]
  },
  {
   "cell_type": "markdown",
   "id": "23ed91cb",
   "metadata": {},
   "source": [
    "Therefore any clusters that are assigned an acronym **MDm** in the Allen mapping, will instead be assigned to the region **MD** in the Beryl mapping and **TH** in the Cosmos mapping"
   ]
  },
  {
   "cell_type": "markdown",
   "id": "607f1e1b",
   "metadata": {},
   "source": [
    "## Lateralisation\n",
    "Lateralised versions of each of the three mappings are also available. This allow regions on the left and right hemispheres of the brain to be differentiated. \n",
    "\n",
    "The convention used is that regions in the left hemisphere have negative atlas ids whereas those on the right hemisphere have positive atlas ids.\n",
    "\n",
    "For the non lateralised mappings the atlas id is always positive regardless of whether the region lies in the left or right hemisphere. Aggregating values over regions could result, therefore, in values from different hemispheres being considered together.\n",
    "\n",
    "One thing to be aware of, is that while lateralised mappings return distinct atlas ids for the left and right hemispheres, the acronyms returned are not lateralised. \n",
    "\n",
    "For example consider findng the atlas id when mapping the acronym **MDm** onto the Beryl atlas. When specifying the left hemisphere, the returned atlas id is negative"
   ]
  },
  {
   "cell_type": "code",
   "execution_count": null,
   "id": "30f5e956",
   "metadata": {},
   "outputs": [],
   "source": [
    "# Left hemisphere gives negative atlas id\n",
    "acronym2atlasID('MDm', mapping='Beryl', hemisphere='left')"
   ]
  },
  {
   "cell_type": "markdown",
   "id": "aa94a06e",
   "metadata": {},
   "source": [
    "When specifying the right hemisphere, the returned atlas id is positive"
   ]
  },
  {
   "cell_type": "code",
   "execution_count": null,
   "id": "9125fc7c",
   "metadata": {},
   "outputs": [],
   "source": [
    "# Left hemisphere gives negative atlas id\n",
    "acronym2atlasID('MDm', mapping='Beryl', hemisphere='right')"
   ]
  },
  {
   "cell_type": "markdown",
   "id": "be5e0654",
   "metadata": {},
   "source": [
    "However, regardless of whether we specify left or right hemisphere, the returned acronym is always the same"
   ]
  },
  {
   "cell_type": "code",
   "execution_count": null,
   "id": "aaa8b3f5",
   "metadata": {},
   "outputs": [],
   "source": [
    "acronym2acronym('MDm', mapping='Beryl', hemisphere='right')"
   ]
  },
  {
   "cell_type": "code",
   "execution_count": null,
   "id": "77291362",
   "metadata": {},
   "outputs": [],
   "source": [
    "acronym2acronym('MDm', mapping='Beryl', hemisphere='left')"
   ]
  },
  {
   "cell_type": "code",
   "execution_count": null,
   "id": "b54286b1",
   "metadata": {},
   "outputs": [],
   "source": [
    "#acronym2atlas_id(acronym, mapping)\n",
    "#acronym2index(acronym, mapping)\n",
    "#atlasid2acronym()\n",
    "br = ba.regions\n",
    "def acronym2atlasID(acronym, mapping='Allen', hemisphere='both'):\n",
    "    \n",
    "    index = np.where(br.acronym == acronym)[0]\n",
    "    br.id[br.mappings[mapping]][index]\n",
    "    #idx = np.where(br.acronym[br.mappings[mapping]] == acronym)\n",
    "    #print(idx)\n",
    "    return br.id[br.mappings[mapping]][index]\n",
    "\n",
    "def acronym2acronym(acronym, mapping='Allen', hemisphere='both'):\n",
    "    # TODO account for cases where no mapping\n",
    "    index = np.where(br.acronym == acronym)[0]\n",
    "    return br.acronym[br.mappings[mapping]][index]\n",
    "\n",
    "def acronym2index(acronym, mapping='Allen', hemisphere='both'):\n",
    "    return np.where(br.acronym == acronym)[0]"
   ]
  },
  {
   "cell_type": "code",
   "execution_count": null,
   "id": "3afa9006",
   "metadata": {},
   "outputs": [],
   "source": [
    "acronym2acronym('MDm', mapping='Beryl')"
   ]
  },
  {
   "cell_type": "code",
   "execution_count": null,
   "id": "780bd9ac",
   "metadata": {},
   "outputs": [],
   "source": [
    "#We have list of brain regioty\n",
    "import pandas as pd\n",
    "ba.regions.__dict__"
   ]
  },
  {
   "cell_type": "code",
   "execution_count": null,
   "id": "82ef8826",
   "metadata": {},
   "outputs": [],
   "source": [
    "# brain volume\n",
    "to interpret must use atlas_ids"
   ]
  },
  {
   "cell_type": "markdown",
   "id": "6dc83925",
   "metadata": {},
   "source": [
    "## How to map your data"
   ]
  },
  {
   "cell_type": "markdown",
   "id": "9606cc0b",
   "metadata": {},
   "source": [
    "### Mapping from mlapdv coordinates"
   ]
  }
 ],
 "metadata": {
  "kernelspec": {
   "display_name": "Python [conda env:iblenv] *",
   "language": "python",
   "name": "conda-env-iblenv-py"
  },
  "language_info": {
   "codemirror_mode": {
    "name": "ipython",
    "version": 3
   },
   "file_extension": ".py",
   "mimetype": "text/x-python",
   "name": "python",
   "nbconvert_exporter": "python",
   "pygments_lexer": "ipython3",
   "version": "3.9.7"
  }
 },
 "nbformat": 4,
 "nbformat_minor": 5
}
